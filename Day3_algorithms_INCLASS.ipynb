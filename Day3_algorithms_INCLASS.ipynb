{
 "cells": [
  {
   "cell_type": "markdown",
   "metadata": {},
   "source": [
    "# Algorithms, Binary Search & Sorting"
   ]
  },
  {
   "cell_type": "markdown",
   "metadata": {},
   "source": [
    "## Tasks Today:\n",
    " \n",
    "1) <b>In-Place Algorithms</b> <br>\n",
    " &nbsp;&nbsp;&nbsp;&nbsp; a) Syntax <br>\n",
    " &nbsp;&nbsp;&nbsp;&nbsp; a) Out of Place Algorithm <br>\n",
    " &nbsp;&nbsp;&nbsp;&nbsp; b) In-Class Exercise #1 <br>\n",
    "2) <b>Two Pointers</b> <br>\n",
    "3) <b>Sorting Algos</b> <br>\n",
    " &nbsp;&nbsp;&nbsp;&nbsp; a) Video on Algorithms <br>\n",
    " &nbsp;&nbsp;&nbsp;&nbsp; b) How it Works <br>\n",
    "4) <b>Exercises</b> <br>\n",
    " &nbsp;&nbsp;&nbsp;&nbsp; a) Exercise #1 - Reverse a List in Place Using an In-Place Algorithm <br>\n",
    " &nbsp;&nbsp;&nbsp;&nbsp; b) Exercise #2 - Find Distinct Words <br>\n",
    " &nbsp;&nbsp;&nbsp;&nbsp; c) Exercise #3 - Write a program to implement a Linear Search Algorithm. <br>"
   ]
  },
  {
   "cell_type": "markdown",
   "metadata": {},
   "source": [
    "## In-Place Algorithms"
   ]
  },
  {
   "cell_type": "markdown",
   "metadata": {},
   "source": [
    "#### Syntax"
   ]
  },
  {
   "cell_type": "code",
   "execution_count": 2,
   "metadata": {},
   "outputs": [
    {
     "name": "stdout",
     "output_type": "stream",
     "text": [
      "original - [1, 5, 3, 16, 2]\n",
      "augmented - [2, 5, 3, 16, 1]\n"
     ]
    }
   ],
   "source": [
    "# in-place modifies the ACTUAL list/data structure\n",
    "# var[i], var[i+1] = var[i+1, var[i]]\n",
    "\n",
    "# def swap(alist, x, y):\n",
    "#     tempa = alist[x]\n",
    "#     tempb = alist[y]\n",
    "#     alist[x] = tempb\n",
    "#     alist[y] = tempa\n",
    "\n",
    "def swap(alist, x, y):\n",
    "    alist[x], alist[y] = alist[y], alist[x]\n",
    "    \n",
    "nums = [1, 5, 3, 16, 2]\n",
    "print(f\"original - {nums}\")\n",
    "\n",
    "swap(nums, 0, 4)\n",
    "print(f\"augmented - {nums}\")\n"
   ]
  },
  {
   "cell_type": "markdown",
   "metadata": {},
   "source": [
    "#### Out of Place Algorithm"
   ]
  },
  {
   "cell_type": "code",
   "execution_count": 1,
   "metadata": {},
   "outputs": [
    {
     "name": "stdout",
     "output_type": "stream",
     "text": [
      "original - [1, 5, 3, 16, 2]\n",
      "augmented - [2, 5, 3, 16, 1]\n"
     ]
    }
   ],
   "source": [
    "#out-of-place returns a modified copy\n",
    "\n",
    "def swap(alist, x, y):\n",
    "    alist[x], alist[y] = alist[y], alist[x]\n",
    "    \n",
    "nums = [1, 5, 3, 16, 2]\n",
    "ezums = [0, 66]\n",
    "print(f\"original - {nums}\")\n",
    "\n",
    "swap(nums, 0, 4)\n",
    "print(f\"augmented - {nums}\")\n"
   ]
  },
  {
   "cell_type": "markdown",
   "metadata": {},
   "source": [
    "#### In-Class Exercise #1 <br>\n",
    "<p>Write a function that takes in four arguments (list, index1, index2, index3), and swaps those three positions in the list passed in.</p>"
   ]
  },
  {
   "cell_type": "code",
   "execution_count": 6,
   "metadata": {},
   "outputs": [
    {
     "name": "stdout",
     "output_type": "stream",
     "text": [
      "Unmodified = [10, 4, 3, 8, 4, 2, 6]\n",
      "Unmodified = [10, 8, 3, 900, 4, 1993, 6]\n",
      "Unmodified = [10, 2, 3, 4, 4, 8, 6]\n",
      "Unmodified = [10, 1993, 3, 8, 4, 900, 6]\n"
     ]
    }
   ],
   "source": [
    "l_1 = [10, 4, 3, 8, 4, 2, 6]\n",
    "l_2 = [10, 8, 3, 900, 4, 1993, 6]\n",
    "\n",
    "def swap2(alist, x, y, z):\n",
    "    alist[x], alist[y], alist[z] = alist[z], alist[x], alist[y]\n",
    "    \n",
    "print(f\"Unmodified = {l_1}\")\n",
    "print(f\"Unmodified = {l_2}\")      \n",
    "\n",
    "swap2(l_1, 1, 3, 5)\n",
    "swap2(l_2, 1, 3, 5)\n",
    "      \n",
    "print(f\"Modified = {l_1}\")\n",
    "print(f\"Modified = {l_2}\")"
   ]
  },
  {
   "cell_type": "markdown",
   "metadata": {},
   "source": [
    "## Two Pointers"
   ]
  },
  {
   "cell_type": "markdown",
   "metadata": {},
   "source": [
    "#### Syntax"
   ]
  },
  {
   "cell_type": "code",
   "execution_count": 12,
   "metadata": {},
   "outputs": [
    {
     "name": "stdout",
     "output_type": "stream",
     "text": [
      "[1, 2, 3, 4, 5, 6]\n",
      "[5, 8, 11, 56, 45, 2, 86, 21]\n"
     ]
    },
    {
     "data": {
      "text/plain": [
       "[21, 86, 2, 45, 56, 11, 8, 5]"
      ]
     },
     "execution_count": 12,
     "metadata": {},
     "output_type": "execute_result"
    }
   ],
   "source": [
    "#       0  1  2  3  4\n",
    "#      -5 -4 -3 -2 -1\n",
    "nums2 = [1, 2, 3, 4, 5, 6]\n",
    "nums3 = [5, 8, 11, 56, 45, 2, 86, 21]\n",
    "\n",
    "def twoPointer(numlist):\n",
    "    #create our pointers\n",
    "    left = 0\n",
    "    right = len(numlist) - 1\n",
    "    while left < right:\n",
    "        numlist[left], numlist[right] = numlist[right], numlist[left]\n",
    "        left += 1\n",
    "        right -= 1\n",
    "    return numlist\n",
    "\n",
    "print(nums2)\n",
    "print(nums3)\n",
    "twoPointer(nums2)\n",
    "twoPointer(nums3)"
   ]
  },
  {
   "cell_type": "markdown",
   "metadata": {},
   "source": [
    "#### Video of Algorithms <br>\n",
    "<p>Watch the video about algorithms.</p>\n",
    "\n",
    "https://www.youtube.com/watch?v=Q9HjeFD62Uk\n",
    "\n",
    "https://www.youtube.com/watch?v=kPRA0W1kECg\n",
    "\n",
    "https://www.youtube.com/watch?v=ZZuD6iUe3Pc"
   ]
  },
  {
   "cell_type": "markdown",
   "metadata": {},
   "source": [
    "# Sorting Algorithms"
   ]
  },
  {
   "cell_type": "markdown",
   "metadata": {},
   "source": [
    "#### Bubble Sort\n",
    "\n",
    "Worst Case: O(n^2) Time - O(1) Space"
   ]
  },
  {
   "cell_type": "code",
   "execution_count": 19,
   "metadata": {},
   "outputs": [
    {
     "name": "stdout",
     "output_type": "stream",
     "text": [
      "[1, 14, 10, 4, 7, 6, 9, 8]\n",
      "[1, 4, 6, 7, 8, 9, 10, 14]\n"
     ]
    }
   ],
   "source": [
    "# this is going to be a help func for us here\n",
    "def swap(alist, x, y):\n",
    "    alist[x], alist[y] = alist[y], alist[x]\n",
    "    \n",
    "def bubbleSort(arr):\n",
    "    for x in range(len(arr)):\n",
    "        count = 0\n",
    "        for i in range(len(arr)-1):\n",
    "            if arr[i] > arr[i+1]:\n",
    "                swap(arr, i, i+1)\n",
    "                count += 1\n",
    "\n",
    "nums5 = [1, 14, 10, 4, 7, 6, 9, 8]\n",
    "# print(nums5)\n",
    "# bubbleSort(nums5)\n",
    "# print(nums5)\n",
    "\n",
    "def bubblesortOP(arr):\n",
    "    isSorted = False\n",
    "    while not isSorted:\n",
    "        isSorted = True\n",
    "        for i in range(len(arr)-1):\n",
    "            if arr[i] > arr[i+1]:\n",
    "                swap(arr, i, i+1)\n",
    "                isSorted = False\n",
    "\n",
    "print(nums5)\n",
    "bubblesortOP(nums5)\n",
    "print(nums5)"
   ]
  },
  {
   "cell_type": "markdown",
   "metadata": {},
   "source": [
    "##### Insertion Sort\n",
    "\n",
    "Worst Case: O(n^2) time - O(1)space"
   ]
  },
  {
   "cell_type": "code",
   "execution_count": 22,
   "metadata": {},
   "outputs": [
    {
     "name": "stdout",
     "output_type": "stream",
     "text": [
      "[55, 1, 99, 65, 41, 3, 8, 74]\n",
      "[1, 3, 8, 41, 55, 65, 74, 99]\n"
     ]
    }
   ],
   "source": [
    "def swap(alist, x, y):\n",
    "    alist[x], alist[y] = alist[y], alist[x]\n",
    "    \n",
    "def inSort(arr):\n",
    "    for i in range(len(arr)):\n",
    "        j = i\n",
    "        while j > 0 and arr[j] < arr[j-1]:\n",
    "            swap(arr, j, j-1)\n",
    "            j -= 1\n",
    "            \n",
    "num6 = [55, 1, 99, 65, 41, 3, 8, 74]\n",
    "\n",
    "print(num6)\n",
    "inSort(num6)\n",
    "print(num6)"
   ]
  },
  {
   "cell_type": "markdown",
   "metadata": {},
   "source": [
    "## Merge Sort"
   ]
  },
  {
   "cell_type": "markdown",
   "metadata": {},
   "source": [
    "#### How it Works"
   ]
  },
  {
   "cell_type": "code",
   "execution_count": 29,
   "metadata": {},
   "outputs": [
    {
     "ename": "SyntaxError",
     "evalue": "invalid syntax (1869906250.py, line 25)",
     "output_type": "error",
     "traceback": [
      "\u001b[1;36m  File \u001b[1;32m\"C:\\Users\\Admin\\AppData\\Local\\Temp\\ipykernel_296\\1869906250.py\"\u001b[1;36m, line \u001b[1;32m25\u001b[0m\n\u001b[1;33m    alist[k] = righthalf[j]:\u001b[0m\n\u001b[1;37m                           ^\u001b[0m\n\u001b[1;31mSyntaxError\u001b[0m\u001b[1;31m:\u001b[0m invalid syntax\n"
     ]
    }
   ],
   "source": [
    "# 1. Split everything from the middle and keep going until we can't go any further\n",
    "# 2. From left to right merge groups together\n",
    "# 3. While merging, place each where it belongs within the merged group\n",
    "# 4. Repeat, keep going, all the way up the chain\n",
    "\n",
    "def mergeSort(alist):\n",
    "    if len(alist) > 1:\n",
    "        mid = len(alist)//2\n",
    "        lefthalf = alist[:mid]\n",
    "        righthalf = alist [mid:]\n",
    "        \n",
    "        # this is our recursive call!\n",
    "        mergeSort(lefthalf)\n",
    "        mergeSort(righthalf)\n",
    "        \n",
    "        #create our pointers\n",
    "        i, j, k = 0, 0, 0\n",
    "        \n",
    "    # step 2 let's compare lefthalf and righthalf\n",
    "    while i < len(lefthalf) and j < len(righthalf):\n",
    "        if lefthalf[i] < righthalf[j]:\n",
    "            alist[k] = lefthalf[i]\n",
    "            i += 1\n",
    "        else:\n",
    "            alist[k] = righthalf[j]:\n",
    "                j += 1\n",
    "    k += 1\n",
    "    #step 3 - while merging: placement\n",
    "    while i < len(lefthand):\n",
    "        alist[k] = lefthalf[i]:\n",
    "            i += 1\n",
    "            k += 1\n",
    "    while j < len(righthalf):\n",
    "        alist[k] = righthalf[j]:\n",
    "            j += 1\n",
    "            k += 1\n",
    "            \n",
    "num7 = [55, 1, 99, 65, 41, 3, 8, 74, 120, 97, 178]\n",
    "print(num7)\n",
    "mergeSort(num7)\n",
    "print(num7)"
   ]
  },
  {
   "cell_type": "markdown",
   "metadata": {},
   "source": [
    "# Binary Search\n",
    "\n",
    "The Binary Search algorithm works by finding the number in the middle of a given array and comparing it to the target. Given that the array is sorted\n",
    "\n",
    "* The worst case run time for this algorithm is `O(log(n))`"
   ]
  },
  {
   "cell_type": "code",
   "execution_count": 12,
   "metadata": {},
   "outputs": [
    {
     "name": "stdout",
     "output_type": "stream",
     "text": [
      "I found your target at index: 7\n",
      "I found your target at index: 5\n"
     ]
    }
   ],
   "source": [
    "\n",
    "nums8 = [1, 3, 4, 9, 11, 18, 50, 68, 97] \n",
    "nums9 = list(range(11))\n",
    "def binSearch(nums, target):\n",
    "    left = 0\n",
    "    right = len(nums)-1\n",
    "    while left <= right:\n",
    "        mid = (left + right)//2\n",
    "        potentialMatch = nums[mid]\n",
    "        if target == potentialMatch:\n",
    "            return f\"I found your target at index: {mid}\"\n",
    "        elif target < potentialMatch:\n",
    "            right = mid - 1\n",
    "        elif target > potentialMatch:\n",
    "            left = mid + 1\n",
    "    return f\"Sorry, your target isn't there!!!!\"\n",
    "print(binSearch(nums8, 68))\n",
    "print(binSearch(nums9, 5))"
   ]
  },
  {
   "cell_type": "markdown",
   "metadata": {},
   "source": [
    "# Exercises"
   ]
  },
  {
   "cell_type": "markdown",
   "metadata": {},
   "source": [
    "### Exercise #1 <br>\n",
    "<p>Reverse the list below in-place using an in-place algorithm.<br>For extra credit: Reverse the strings at the same time.</p>"
   ]
  },
  {
   "cell_type": "code",
   "execution_count": 2,
   "metadata": {},
   "outputs": [
    {
     "name": "stdout",
     "output_type": "stream",
     "text": [
      "['this', 'is', 'a', 'sentence', '.']\n",
      "['.', 'ecnetnes', 'a', 'si', 'siht']\n"
     ]
    }
   ],
   "source": [
    "words = ['this' , 'is', 'a', 'sentence', '.']\n",
    "\n",
    "# def loop(list): # function to reverse order of each string in index\n",
    "#         for i in range(len(list)): # loop per item in list\n",
    "#             x = list[i] # assigning x value of list index item\n",
    "#             x = x[::-1] # reverse order of x\n",
    "#             list[i] = x # assigning list index item the value of reversed string\n",
    "\n",
    "# def twoPointer(numlist):\n",
    "#     left = 0   # pointer assignment\n",
    "#     right = len(numlist) - 1\n",
    "#     while left < right: # reordering till middle is met\n",
    "#         numlist[left], numlist[right] = numlist[right], numlist[left] # swapping values from end to middle\n",
    "#         left += 1 # incrementing to reach loop breakpoint\n",
    "#         right -= 1\n",
    "#     return numlist\n",
    "\n",
    "def twoPointer2(list): # function to reverse order of each string in index + individual index reversal\n",
    "    for i in range(len(list)): # loop per item in list\n",
    "            x = list[i] # assigning x value of list index item\n",
    "            x = x[::-1] # reverse order of x via incrementing -1(so from the back forward)\n",
    "            list[i] = x x # assigning list index item the value of reversed string\n",
    "            \n",
    "    left = 0 # initial pointer assignment\n",
    "    right = len(list) - 1\n",
    "    while left < right: # loop until breaking at midpoint\n",
    "        list[left], list[right] = list[right], list[left] # swapping values from outside in\n",
    "        left += 1 # incrementing to reach loop break parameter\n",
    "        right -= 1\n",
    "        \n",
    "print(words)\n",
    "twoPointer2(words)\n",
    "print(words)\n"
   ]
  },
  {
   "cell_type": "markdown",
   "metadata": {},
   "source": [
    "### Exercise #2 <br>\n",
    "<p>Create a function that counts how many distinct words are in the string below, then outputs a dictionary with the words as the key and the value as the amount of times that word appears in the string.<br>Should output:<br>{'a': 5,<br>\n",
    " 'abstract': 1,<br>\n",
    " 'an': 3,<br>\n",
    " 'array': 2, ... etc...</p>"
   ]
  },
  {
   "cell_type": "code",
   "execution_count": null,
   "metadata": {},
   "outputs": [],
   "source": [
    "a_text = 'In computing, a hash table hash map is a data structure which implements an associative array abstract data type, a structure that can map keys to values. A hash table uses a hash function to compute an index into an array of buckets or slots from which the desired value can be found'\n",
    "\n",
    "def s_dict(str): # defining function to dictionize words and quantity of said words\n",
    "    dicti = {} # initial value assignment of dicti\n",
    "    w = str.split() # splitting string into list\n",
    "\n",
    "    for word in w: # looping for every list item\n",
    "        if word in dicti: # confirming in string present in dicti\n",
    "            dicti[word] += 1 # adding 1 to value\n",
    "        else: # if string not present in dicti\n",
    "            dicti[word] = 1 # adding key and initial value\n",
    "            \n",
    "    print(\"Word            Quantity\") #aesthetics\n",
    "    print(\"------------------------\") # more aesthetics\n",
    "    for key, value in dicti.items(): # looping and calling key/value per pair\n",
    "        length = len(key) # defining length to adjust space\n",
    "        space = (\" \" * (16-length)) # assigning space value after adjusting for string length\n",
    "        print(f\"{key}{space}{value}\") # outputing string and quantity\n",
    "        \n",
    "s_dict(a_text)\n"
   ]
  },
  {
   "cell_type": "markdown",
   "metadata": {},
   "source": [
    "## Exercise #3\n",
    "\n",
    "Write a program to implement a Linear Search Algorithm. Also in a comment, write the Time Complexity of the following algorithm.\n",
    "\n",
    "#### Hint: Linear Searching will require searching a list for a given number. "
   ]
  },
  {
   "cell_type": "code",
   "execution_count": 2,
   "metadata": {},
   "outputs": [
    {
     "name": "stdout",
     "output_type": "stream",
     "text": [
      "---Welcome to Ginghoo's search program---\n",
      "S for search, or Q for quit: s\n",
      "What number do you seek? Please input a number between 0 - 80: 6\n",
      "The location of what you seek: 2\n",
      "S for search, or Q for quit: q\n",
      "Thank you for letting us profit off your information\n"
     ]
    }
   ],
   "source": [
    "l_1 = range(0, 90, 3) # defining list\n",
    "\n",
    "# This also works, but its not linear. \n",
    "# def ginghoo(list, search):\n",
    "#     left = 0\n",
    "#     right = len(list)-1\n",
    "#     while left <= right:\n",
    "#         mid = (left + right)//2\n",
    "#         potentialMatch = list[mid]\n",
    "#         if search == potentialMatch:\n",
    "#             return f\"The location of what you seek: {mid}\"\n",
    "#         elif search < potentialMatch:\n",
    "#             right = mid - 1\n",
    "#         elif search > potentialMatch:\n",
    "#             left = mid + 1\n",
    "#     return f\"Sorry, your target isn't here\"\n",
    "\n",
    "def ginghoo(list, search): # function taking in list and search parameter\n",
    "    for i in range(len(list)): #loop for each item in list\n",
    "        if list[i] == search: # confirming if item matches search\n",
    "            return f\"The location of what you seek: {i}\" # outputting location\n",
    "        \n",
    "\n",
    "def inputnumber(message): # function to confirm input is integer\n",
    "  while True:\n",
    "    try:\n",
    "       userInput = int(input(message)) # taking input\n",
    "    except ValueError:\n",
    "       print(\"Not an integer! Try again.\") # disapproving of input\n",
    "       continue\n",
    "    else:\n",
    "       return userInput # approving of input\n",
    "    \n",
    "while True:\n",
    "    print(\"---Welcome to Ginghoo's search program---\")\n",
    "    while True:\n",
    "        I = input(\"S for search, or Q for quit: \") # listing options\n",
    "        if I.lower() == 'q': # if quit is desired\n",
    "            print(\"Thank you for letting us profit off your information\") \n",
    "            break\n",
    "        elif I.lower() == 's': # if search is desired\n",
    "            I = inputnumber(\"What number do you seek? Please input a number between 0 - 80: \")\n",
    "            print(ginghoo(l_1, I)) # calling upon linear search function\n",
    "        else:\n",
    "            print(\"---That is not a valid input---\") # questioning if user read previous output\n",
    "    break\n",
    "\n"
   ]
  },
  {
   "cell_type": "code",
   "execution_count": null,
   "metadata": {},
   "outputs": [],
   "source": []
  }
 ],
 "metadata": {
  "kernelspec": {
   "display_name": "Python 3 (ipykernel)",
   "language": "python",
   "name": "python3"
  },
  "language_info": {
   "codemirror_mode": {
    "name": "ipython",
    "version": 3
   },
   "file_extension": ".py",
   "mimetype": "text/x-python",
   "name": "python",
   "nbconvert_exporter": "python",
   "pygments_lexer": "ipython3",
   "version": "3.9.13"
  }
 },
 "nbformat": 4,
 "nbformat_minor": 2
}
